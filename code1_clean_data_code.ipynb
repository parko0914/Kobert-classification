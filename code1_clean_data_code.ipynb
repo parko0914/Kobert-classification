{
 "cells": [
  {
   "cell_type": "code",
   "execution_count": 20,
   "id": "9e5d710e",
   "metadata": {
    "id": "9e5d710e",
    "outputId": "d3d46cab-2425-400f-f6e9-27cb348b3b57"
   },
   "outputs": [],
   "source": [
    "path = 'C:/Users/82103/OneDrive/바탕 화면/산업분류AI공모전/'\n",
    "\n",
    "import logging\n",
    "\n",
    "def make_logger(name=None):\n",
    "    #1 logger instance를 만든다.\n",
    "    logger = logging.getLogger(name)\n",
    "\n",
    "    #2 logger의 level을 가장 낮은 수준인 DEBUG로 설정해둔다.\n",
    "    logger.setLevel(logging.DEBUG)\n",
    "\n",
    "    #3 formatter 지정\n",
    "    formatter = logging.Formatter(\"%(asctime)s - %(name)s - %(levelname)s - %(message)s\")\n",
    "    \n",
    "    #4 handler instance 생성\n",
    "    console = logging.StreamHandler()\n",
    "    file_handler = logging.FileHandler(filename=path + \"logs/final_1.log\",\n",
    "                                       encoding = 'utf-8')\n",
    "    \n",
    "    #5 handler 별로 다른 level 설정\n",
    "    console.setLevel(logging.INFO)\n",
    "    file_handler.setLevel(logging.DEBUG)\n",
    "\n",
    "    #6 handler 출력 format 지정\n",
    "    console.setFormatter(formatter)\n",
    "    file_handler.setFormatter(formatter)\n",
    "\n",
    "    #7 logger에 handler 추가\n",
    "    logger.addHandler(console)\n",
    "    logger.addHandler(file_handler)\n",
    "\n",
    "    return logger"
   ]
  },
  {
   "cell_type": "code",
   "execution_count": 21,
   "id": "d1c21a67",
   "metadata": {},
   "outputs": [
    {
     "name": "stderr",
     "output_type": "stream",
     "text": [
      "2022-04-12 23:35:17,666 - root - INFO - info logging\n",
      "2022-04-12 23:35:17,669 - root - WARNING - warning logging\n",
      "2022-04-12 23:35:17,670 - root - ERROR - error logging\n",
      "2022-04-12 23:35:17,670 - root - CRITICAL - critical logging\n"
     ]
    }
   ],
   "source": [
    "logger = make_logger()\n",
    "\n",
    "logger.debug(\"debug logging\")\n",
    "logger.info(\"info logging\")\n",
    "logger.warning(\"warning logging\")\n",
    "logger.error(\"error logging\")\n",
    "logger.critical(\"critical logging\")"
   ]
  },
  {
   "cell_type": "code",
   "execution_count": null,
   "id": "650ee368",
   "metadata": {},
   "outputs": [],
   "source": [
    "# !pip install git+https://github.com/ssut/py-hanspell.git"
   ]
  },
  {
   "cell_type": "code",
   "execution_count": 22,
   "id": "0f505fd7",
   "metadata": {
    "id": "0f505fd7",
    "outputId": "7cfaa79f-6bc2-4880-b1e5-8ccbee7ec0cf"
   },
   "outputs": [
    {
     "data": {
      "text/plain": [
       "True"
      ]
     },
     "execution_count": 22,
     "metadata": {},
     "output_type": "execute_result"
    }
   ],
   "source": [
    "from hanspell import spell_checker\n",
    "from tqdm import tqdm\n",
    "import pandas as pd\n",
    "import torch\n",
    "torch.cuda.is_available()"
   ]
  },
  {
   "cell_type": "code",
   "execution_count": 23,
   "id": "26c04277",
   "metadata": {
    "id": "26c04277"
   },
   "outputs": [],
   "source": [
    "data = pd.read_csv('./train.csv', encoding = 'cp949')\n",
    "add_data = pd.read_csv('./add_index_fin_0411.csv', encoding = 'cp949')\n",
    "code_data = pd.read_csv('./code_data.csv', encoding = 'cp949')"
   ]
  },
  {
   "cell_type": "code",
   "execution_count": 24,
   "id": "5a742db3",
   "metadata": {
    "id": "5a742db3"
   },
   "outputs": [],
   "source": [
    "train_d = data.copy()\n",
    "train_d = train_d.iloc[:,3:]"
   ]
  },
  {
   "cell_type": "code",
   "execution_count": 25,
   "id": "da90706e",
   "metadata": {
    "id": "da90706e"
   },
   "outputs": [],
   "source": [
    "train_d.columns = ['y', 'x1', 'x2', 'x3']\n",
    "cols = ['x1', 'x2', 'x3']"
   ]
  },
  {
   "cell_type": "code",
   "execution_count": 26,
   "id": "fbf38457",
   "metadata": {
    "id": "fbf38457"
   },
   "outputs": [],
   "source": [
    "# na 값 빈칸으로 넣어서, nan 로 합쳐지는 거 방지\n",
    "train_d = train_d.fillna(\"\")\n",
    "train_d['x'] = train_d[cols].astype('str').apply(' '.join, axis = 1)\n",
    "train_d = train_d[['y','x']]"
   ]
  },
  {
   "cell_type": "code",
   "execution_count": 28,
   "id": "c54ab840",
   "metadata": {
    "id": "c54ab840"
   },
   "outputs": [],
   "source": [
    "train_d = pd.concat([train_d, add_data,code_data], axis = 0, ignore_index=True)"
   ]
  },
  {
   "cell_type": "code",
   "execution_count": 29,
   "id": "aed2b8c7",
   "metadata": {
    "id": "aed2b8c7"
   },
   "outputs": [],
   "source": [
    "train_d = train_d.drop_duplicates(keep='first').reset_index(drop=True) # 같은 항목들 삭제"
   ]
  },
  {
   "cell_type": "code",
   "execution_count": 30,
   "id": "89c47d17",
   "metadata": {
    "id": "89c47d17"
   },
   "outputs": [],
   "source": [
    "# bert 모형의 경우 형태소 처리 없이, 특수문자만 제외한 문장만 input\n",
    "# 문장의 흐름을 파악할 수 있기 때문\n",
    "train_d['clean'] = train_d[\"x\"].str.replace(pat=r'[^\\w]', repl=r' ', regex=True)"
   ]
  },
  {
   "cell_type": "code",
   "execution_count": 31,
   "id": "d484ebd4",
   "metadata": {},
   "outputs": [
    {
     "data": {
      "text/html": [
       "<div>\n",
       "<style scoped>\n",
       "    .dataframe tbody tr th:only-of-type {\n",
       "        vertical-align: middle;\n",
       "    }\n",
       "\n",
       "    .dataframe tbody tr th {\n",
       "        vertical-align: top;\n",
       "    }\n",
       "\n",
       "    .dataframe thead th {\n",
       "        text-align: right;\n",
       "    }\n",
       "</style>\n",
       "<table border=\"1\" class=\"dataframe\">\n",
       "  <thead>\n",
       "    <tr style=\"text-align: right;\">\n",
       "      <th></th>\n",
       "      <th>y</th>\n",
       "      <th>x</th>\n",
       "      <th>clean</th>\n",
       "    </tr>\n",
       "  </thead>\n",
       "  <tbody>\n",
       "    <tr>\n",
       "      <th>0</th>\n",
       "      <td>952</td>\n",
       "      <td>카센터에서 자동차부분정비 타이어오일교환</td>\n",
       "      <td>카센터에서 자동차부분정비 타이어오일교환</td>\n",
       "    </tr>\n",
       "    <tr>\n",
       "      <th>1</th>\n",
       "      <td>472</td>\n",
       "      <td>상점내에서 일반인을 대상으로 채소.과일판매</td>\n",
       "      <td>상점내에서 일반인을 대상으로 채소 과일판매</td>\n",
       "    </tr>\n",
       "    <tr>\n",
       "      <th>2</th>\n",
       "      <td>467</td>\n",
       "      <td>절단하여사업체에도매 공업용고무를가지고 합성고무도매</td>\n",
       "      <td>절단하여사업체에도매 공업용고무를가지고 합성고무도매</td>\n",
       "    </tr>\n",
       "    <tr>\n",
       "      <th>3</th>\n",
       "      <td>475</td>\n",
       "      <td>영업점에서 일반소비자에게 열쇠잠금장치</td>\n",
       "      <td>영업점에서 일반소비자에게 열쇠잠금장치</td>\n",
       "    </tr>\n",
       "    <tr>\n",
       "      <th>4</th>\n",
       "      <td>872</td>\n",
       "      <td>어린이집 보호자의 위탁을 받아 취학전아동보육</td>\n",
       "      <td>어린이집 보호자의 위탁을 받아 취학전아동보육</td>\n",
       "    </tr>\n",
       "    <tr>\n",
       "      <th>...</th>\n",
       "      <td>...</td>\n",
       "      <td>...</td>\n",
       "      <td>...</td>\n",
       "    </tr>\n",
       "    <tr>\n",
       "      <th>705193</th>\n",
       "      <td>951</td>\n",
       "      <td>컴퓨터 및 통신장비 수리업</td>\n",
       "      <td>컴퓨터 및 통신장비 수리업</td>\n",
       "    </tr>\n",
       "    <tr>\n",
       "      <th>705194</th>\n",
       "      <td>952</td>\n",
       "      <td>자동차 및 모터사이클 수리업</td>\n",
       "      <td>자동차 및 모터사이클 수리업</td>\n",
       "    </tr>\n",
       "    <tr>\n",
       "      <th>705195</th>\n",
       "      <td>953</td>\n",
       "      <td>개인 및 가정용품 수리업</td>\n",
       "      <td>개인 및 가정용품 수리업</td>\n",
       "    </tr>\n",
       "    <tr>\n",
       "      <th>705196</th>\n",
       "      <td>961</td>\n",
       "      <td>미용, 욕탕 및 유사 서비스업</td>\n",
       "      <td>미용  욕탕 및 유사 서비스업</td>\n",
       "    </tr>\n",
       "    <tr>\n",
       "      <th>705197</th>\n",
       "      <td>969</td>\n",
       "      <td>그 외 기타 개인 서비스업</td>\n",
       "      <td>그 외 기타 개인 서비스업</td>\n",
       "    </tr>\n",
       "  </tbody>\n",
       "</table>\n",
       "<p>705198 rows × 3 columns</p>\n",
       "</div>"
      ],
      "text/plain": [
       "          y                            x                        clean\n",
       "0       952        카센터에서 자동차부분정비 타이어오일교환        카센터에서 자동차부분정비 타이어오일교환\n",
       "1       472      상점내에서 일반인을 대상으로 채소.과일판매      상점내에서 일반인을 대상으로 채소 과일판매\n",
       "2       467  절단하여사업체에도매 공업용고무를가지고 합성고무도매  절단하여사업체에도매 공업용고무를가지고 합성고무도매\n",
       "3       475         영업점에서 일반소비자에게 열쇠잠금장치         영업점에서 일반소비자에게 열쇠잠금장치\n",
       "4       872     어린이집 보호자의 위탁을 받아 취학전아동보육     어린이집 보호자의 위탁을 받아 취학전아동보육\n",
       "...     ...                          ...                          ...\n",
       "705193  951               컴퓨터 및 통신장비 수리업               컴퓨터 및 통신장비 수리업\n",
       "705194  952              자동차 및 모터사이클 수리업              자동차 및 모터사이클 수리업\n",
       "705195  953                개인 및 가정용품 수리업                개인 및 가정용품 수리업\n",
       "705196  961             미용, 욕탕 및 유사 서비스업             미용  욕탕 및 유사 서비스업\n",
       "705197  969               그 외 기타 개인 서비스업               그 외 기타 개인 서비스업\n",
       "\n",
       "[705198 rows x 3 columns]"
      ]
     },
     "execution_count": 31,
     "metadata": {},
     "output_type": "execute_result"
    }
   ],
   "source": [
    "train_d"
   ]
  },
  {
   "cell_type": "code",
   "execution_count": 32,
   "id": "0e33b984",
   "metadata": {
    "id": "0e33b984"
   },
   "outputs": [],
   "source": [
    "# 맞춤법 교정 함수\n",
    "# 참고 : https://hong-yp-ml-records.tistory.com/99\n",
    "\n",
    "def comment_clean_t(data):\n",
    "    comment = data['clean']\n",
    "    comment_list = []\n",
    "    for i in tqdm(range(len(comment))):    \n",
    "        try:\n",
    "            # 특정 특수문자 삭제\n",
    "            sent = comment[i]\n",
    "\n",
    "            hanspell_sent = spell_checker.check(sent).checked\n",
    "            comment_list.append(hanspell_sent)\n",
    "        except:\n",
    "            comment_list.append(sent)\n",
    "    return comment_list"
   ]
  },
  {
   "cell_type": "code",
   "execution_count": 33,
   "id": "9152b22b",
   "metadata": {
    "id": "9152b22b",
    "outputId": "816ba099-ad9d-4a2c-c8a2-099ed95ffa85"
   },
   "outputs": [
    {
     "name": "stderr",
     "output_type": "stream",
     "text": [
      "100%|████████████████████████████████████████████████████████████████████████| 705198/705198 [5:01:26<00:00, 38.99it/s]\n"
     ]
    }
   ],
   "source": [
    "clean_list = comment_clean_t(train_d)"
   ]
  },
  {
   "cell_type": "code",
   "execution_count": 34,
   "id": "43fcfcf6",
   "metadata": {
    "id": "43fcfcf6"
   },
   "outputs": [],
   "source": [
    "train_d['clean_done'] = clean_list"
   ]
  },
  {
   "cell_type": "code",
   "execution_count": 35,
   "id": "e5b58149",
   "metadata": {
    "id": "e5b58149"
   },
   "outputs": [],
   "source": [
    "train_d.to_csv('./correct_train_fin.csv', index = False, encoding = \"utf-8-sig\")"
   ]
  },
  {
   "cell_type": "code",
   "execution_count": null,
   "id": "0748647e",
   "metadata": {
    "id": "0748647e"
   },
   "outputs": [],
   "source": []
  },
  {
   "cell_type": "code",
   "execution_count": 36,
   "id": "aCuQKFhcePxp",
   "metadata": {
    "id": "aCuQKFhcePxp"
   },
   "outputs": [],
   "source": [
    "# 제출파일도 맞춤법 검사\n",
    "test_d = pd.read_table('./submission.txt', sep = '|')"
   ]
  },
  {
   "cell_type": "code",
   "execution_count": 37,
   "id": "Xx7BVOQ8eety",
   "metadata": {
    "id": "Xx7BVOQ8eety"
   },
   "outputs": [],
   "source": [
    "test = test_d.copy()\n",
    "cols = ['text_obj', 'text_mthd', 'text_deal']\n",
    "# na 값 빈칸으로 넣어서, nan 로 합쳐지는 거 방지\n",
    "test = test.fillna(\"\")\n",
    "test['x'] = test[cols].astype('str').apply(' '.join, axis = 1)\n",
    "test['clean'] = test[\"x\"].str.replace(pat=r'[^\\w]', repl=r' ', regex=True)"
   ]
  },
  {
   "cell_type": "code",
   "execution_count": 38,
   "id": "BbOVM_EDehLZ",
   "metadata": {
    "id": "BbOVM_EDehLZ"
   },
   "outputs": [
    {
     "name": "stderr",
     "output_type": "stream",
     "text": [
      "100%|██████████████████████████████████████████████████████████████████████████| 100000/100000 [42:58<00:00, 38.78it/s]\n"
     ]
    }
   ],
   "source": [
    "clean_list = comment_clean_t(test)"
   ]
  },
  {
   "cell_type": "code",
   "execution_count": 39,
   "id": "_UNJUaYoehJi",
   "metadata": {
    "id": "_UNJUaYoehJi"
   },
   "outputs": [],
   "source": [
    "test['clean_done'] = clean_list"
   ]
  },
  {
   "cell_type": "code",
   "execution_count": 40,
   "id": "A_Bo5S5ieo8K",
   "metadata": {
    "id": "A_Bo5S5ieo8K"
   },
   "outputs": [],
   "source": [
    "test.to_csv('./correct_sub_fin.csv', index = False, encoding = \"utf-8-sig\")"
   ]
  },
  {
   "cell_type": "code",
   "execution_count": null,
   "id": "e40cde1d",
   "metadata": {},
   "outputs": [],
   "source": []
  }
 ],
 "metadata": {
  "colab": {
   "collapsed_sections": [],
   "name": "hanspell_code.ipynb",
   "provenance": []
  },
  "kernelspec": {
   "display_name": "Python 3",
   "language": "python",
   "name": "python3"
  },
  "language_info": {
   "codemirror_mode": {
    "name": "ipython",
    "version": 3
   },
   "file_extension": ".py",
   "mimetype": "text/x-python",
   "name": "python",
   "nbconvert_exporter": "python",
   "pygments_lexer": "ipython3",
   "version": "3.8.8"
  }
 },
 "nbformat": 4,
 "nbformat_minor": 5
}
